{
 "cells": [
  {
   "cell_type": "markdown",
   "metadata": {},
   "source": [
    "# Demo: Feature Matching for Sentinel-2 Satellite Images\n",
    "## Introduction\n",
    "This notebook demonstrates feature detection and matching using SIFT and BFMatcher.\n",
    "The goal is to find and visualize the matches between two satellite images."
   ]
  },
  {
   "cell_type": "code",
   "execution_count": null,
   "metadata": {},
   "outputs": [],
   "source": [
    "import sys\n",
    "import os\n",
    "import cv2\n",
    "import matplotlib.pyplot as plt"
   ]
  },
  {
   "cell_type": "code",
   "execution_count": null,
   "metadata": {},
   "outputs": [],
   "source": [
    "\n",
    "# Define the project root directory (two levels up from the current working directory)\n",
    "project_root = os.path.abspath(os.path.join(os.getcwd(), \"../Data_Science_Test_Task/Task_2_Satellite_Image_Matching\"))\n",
    "\n",
    "# Add the src folder to the Python path for module imports\n",
    "src_path = os.path.join(project_root, \"src\")\n",
    "if src_path not in sys.path:\n",
    "    sys.path.append(src_path)\n",
    "\n",
    "from image_loader import ImageLoader\n",
    "from feature_matcher import FeatureMatcher"
   ]
  },
  {
   "cell_type": "code",
   "execution_count": null,
   "metadata": {},
   "outputs": [],
   "source": [
    "project_root"
   ]
  },
  {
   "cell_type": "markdown",
   "metadata": {},
   "source": [
    "### Loading Satellite Images\n",
    "The first step in creating the dataset involves loading satellite images stored in `.jp2` format. The images are organized in the `data/images` folder.\n",
    "\n",
    "We will use the `ImageLoader` class to:\n",
    "1. Load all images from the specified directory.\n",
    "2. Resize them to a manageable resolution while retaining the aspect ratio.\n",
    "3. Normalize the pixel values if needed.\n",
    "\n",
    "The loaded images will be stored in a list for further processing and visualization."
   ]
  },
  {
   "cell_type": "code",
   "execution_count": null,
   "metadata": {},
   "outputs": [],
   "source": [
    "# Define the path to the images folder\n",
    "images_path = os.path.join(project_root, \"data/sorted_by_tile\")"
   ]
  },
  {
   "cell_type": "code",
   "execution_count": null,
   "metadata": {},
   "outputs": [],
   "source": [
    "loader = ImageLoader(images_path)\n",
    "images = loader.load_images()\n",
    "print(f\"Number of images loaded: {len(images)}\")"
   ]
  },
  {
   "cell_type": "markdown",
   "metadata": {},
   "source": [
    "### Notes and Potential Issues\n",
    "1. **Empty Dataset:** Ensure the `data/images` folder contains `.jp2` files before running the notebook.\n",
    "2. **File Corruption:** If any image file is corrupted, the `ImageLoader` will raise an error. This can be handled by filtering out unreadable files.\n",
    "3. **Image Size Variability:** Images may vary in size. The resizing step in the `ImageLoader` ensures uniformity for downstream tasks.\n",
    "4. **Performance:** Large datasets with high-resolution images may require additional computational resources.\n"
   ]
  },
  {
   "cell_type": "code",
   "execution_count": null,
   "metadata": {},
   "outputs": [],
   "source": [
    "print(f\"Shape of the first image: {images[0].shape}\")"
   ]
  },
  {
   "cell_type": "markdown",
   "metadata": {},
   "source": [
    "### Visualizing the Loaded Images\n",
    "After loading the images, it is useful to visualize a subset of them to ensure they have been processed correctly. Below, we display the first 5 images from the dataset."
   ]
  },
  {
   "cell_type": "code",
   "execution_count": null,
   "metadata": {},
   "outputs": [],
   "source": [
    "fig, axes = plt.subplots(1, 5, figsize=(15, 5))  \n",
    "for i, ax in enumerate(axes):\n",
    "    if i < len(images):\n",
    "        ax.imshow(images[i])\n",
    "        ax.axis('off')\n",
    "    else:\n",
    "        ax.axis('off')\n",
    "plt.show()"
   ]
  },
  {
   "cell_type": "code",
   "execution_count": null,
   "metadata": {},
   "outputs": [],
   "source": [
    "# Print a list of image file names\n",
    "for i, file_path in enumerate(loader.image_files):\n",
    "    print(f\"{i+1}: {os.path.basename(file_path)}\")"
   ]
  },
  {
   "cell_type": "markdown",
   "metadata": {},
   "source": [
    "## Feature Matching Between Two Images\n",
    "\n",
    "In this section, we demonstrate how to perform feature matching between two satellite images. The goal is to identify and visualize the common features between images of the same location taken during different seasons.\n",
    "\n",
    "### Steps:\n",
    "\n",
    "1. **Choose Two Images**: Select two images from the dataset that belong to the same location (tile) but are captured in different seasons or at different times. \n",
    "   - Example: Image 1 is from spring, and Image 2 is from winter.\n",
    "\n",
    "2. **Initialize the `FeatureMatcher`**: This class is responsible for detecting and matching features between the selected images.\n",
    "\n",
    "3. **Perform Matching**: Use the `draw_matches` method of the `FeatureMatcher` class to find and draw feature matches between the two images.\n",
    "\n",
    "4. **Display the Results**: The matched features are visualized using `matplotlib`, where lines connect the matching points in the two images.\n",
    "\n",
    "### Code Execution:\n",
    "\n",
    "Make sure to replace `images1` and `images2` with the indices of the images you want to compare. Ensure these images are from the same location but different seasons to observe the seasonal variations effectively.\n"
   ]
  },
  {
   "cell_type": "code",
   "execution_count": null,
   "metadata": {},
   "outputs": [],
   "source": [
    "# Initialize the FeatureMatcher\n",
    "matcher = FeatureMatcher()\n",
    "\n",
    "# Perform feature matching\n",
    "matched_img = matcher.draw_matches(images[12], images[16])  #T36UXA_20180919T083621_TCI.jp2 and T36UYA_20160618T082602_TCI.jp2\n",
    "\n",
    "# Display the matched image\n",
    "plt.figure(figsize=(15, 8))\n",
    "plt.imshow(matched_img)\n",
    "plt.title(\"Feature Matching\")\n",
    "plt.axis(\"off\")\n",
    "plt.show()\n"
   ]
  },
  {
   "cell_type": "markdown",
   "metadata": {},
   "source": [
    "## Conclusion\n",
    "In this notebook, we successfully demonstrated the use of SIFT and BFMatcher for\n",
    "feature detection and matching between two Sentinel-2 satellite images. \n",
    "The result highlights the keypoints and their matches across the images."
   ]
  }
 ],
 "metadata": {
  "kernelspec": {
   "display_name": "venv",
   "language": "python",
   "name": "python3"
  },
  "language_info": {
   "codemirror_mode": {
    "name": "ipython",
    "version": 3
   },
   "file_extension": ".py",
   "mimetype": "text/x-python",
   "name": "python",
   "nbconvert_exporter": "python",
   "pygments_lexer": "ipython3",
   "version": "3.10.12"
  }
 },
 "nbformat": 4,
 "nbformat_minor": 2
}
