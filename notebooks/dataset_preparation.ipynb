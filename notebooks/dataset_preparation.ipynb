{
 "cells": [
  {
   "cell_type": "markdown",
   "metadata": {},
   "source": [
    "## 1. Downloading the Dataset\n",
    "The dataset can be downloaded from the following Kaggle link: [Deforestation in Ukraine](https://www.kaggle.com/datasets/isaienkov/deforestation-in-ukraine/data).\n",
    "\n",
    "Follow these steps to download and place the dataset:\n",
    "1. Download the dataset as a `.zip` file from Kaggle.\n",
    "2. Extract the contents of the zip file.\n",
    "3. Place the extracted folder into the `data/images` directory of this project.\n"
   ]
  },
  {
   "cell_type": "markdown",
   "metadata": {},
   "source": [
    "## 2. Running the Data Preparation Script\n",
    "\n",
    "The `prepare_data.py` script is located in the `src` directory. It organizes the dataset by:\n",
    "- Filtering for True Color Images (TCI).\n",
    "- Sorting images into folders by location (tile).\n",
    "\n",
    "### Steps:\n",
    "1. Ensure the dataset is in the `data/images` folder.\n",
    "2. Run the following code to preprocess the data.\n"
   ]
  },
  {
   "cell_type": "code",
   "execution_count": null,
   "metadata": {},
   "outputs": [],
   "source": [
    "!python3 ../src/prepare_data.py"
   ]
  },
  {
   "cell_type": "markdown",
   "metadata": {},
   "source": [
    "## 4. Verifying the Processed Dataset\n",
    "\n",
    "The processed dataset should now be available in the `data/sorted_by_tile` folder. Each subfolder corresponds to a tile (location) and contains the True Color Images (TCI) for that tile.\n"
   ]
  },
  {
   "cell_type": "markdown",
   "metadata": {},
   "source": [
    "## Moving Data for Testing\n",
    "\n",
    "After sorting the images into folders based on their tile identifiers, the next step is to prepare a set of images specifically for testing the model. To do this:\n",
    "\n",
    "1. Navigate to the folder where the sorted images are located (`data/sorted_by_tile`).\n",
    "2. Manually select a few tile folders (e.g., `T36UYA`, `T36UXA`) and copy them to the `data/test_images` directory.\n",
    "3. The `test_images` directory will serve as the dataset for testing your feature matching and inference scripts.\n",
    "\n",
    "This ensures that the test set contains images from the same tiles (locations), allowing the model to evaluate feature matching across different seasonal variations of the same region.\n",
    "\n",
    "### Important Note:\n",
    "- Ensure that the `test_images` directory contains at least two images from each tile folder to allow proper testing.\n",
    "- You can keep the original sorted images in `data/sorted_by_tile` intact for training or further dataset preparation."
   ]
  }
 ],
 "metadata": {
  "kernelspec": {
   "display_name": "venv",
   "language": "python",
   "name": "python3"
  },
  "language_info": {
   "name": "python",
   "version": "3.10.12"
  }
 },
 "nbformat": 4,
 "nbformat_minor": 2
}
